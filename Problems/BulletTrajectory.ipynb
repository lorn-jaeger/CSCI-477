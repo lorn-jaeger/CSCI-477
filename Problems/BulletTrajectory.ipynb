{
 "cells": [
  {
   "metadata": {},
   "cell_type": "markdown",
   "source": [
    "### Introduction\n",
    "Introduce problem and how we're going to solve it. Bullet trajectory with wind resistance with ode solver and a few equations.\n",
    "\n",
    "H\n"
   ],
   "id": "9e10062c7cb8ec78"
  },
  {
   "metadata": {},
   "cell_type": "markdown",
   "source": [
    "### Methods\n",
    "Have functions here. Take it step by step and take equations from above and work into a set of functions. Write a small test suite for the program.\n",
    "\n",
    "Three steps, ode solver, integrator, and a function to return derivatives. Ode solver calls the integration function for each time step and the integration function calls the derivative calculator"
   ],
   "id": "fa3704b3c56b2dae"
  },
  {
   "metadata": {},
   "cell_type": "code",
   "outputs": [],
   "execution_count": null,
   "source": [
    "import math\n",
    "import numpy as np\n",
    "from scipy.interpolate import interp1d\n",
    "from sim import G7, G1"
   ],
   "id": "eb2a92ffbd32edaa"
  },
  {
   "metadata": {},
   "cell_type": "markdown",
   "source": "Explanation of projectile motion",
   "id": "796f30207f707805"
  },
  {
   "metadata": {},
   "cell_type": "code",
   "outputs": [],
   "execution_count": null,
   "source": [
    "def projectile(t,y,b):\n",
    "  x, y, vx, vy = y\n",
    "  speed = np.sqrt(vx**2 + vy**2)\n",
    "\n",
    "  g = b.g\n",
    "  drag = b.get_drag(speed)\n",
    "\n",
    "  u_x = vx / speed\n",
    "  u_y = vy / speed\n",
    "\n",
    "  ax = -drag * u_x\n",
    "  ay = g - (-drag * u_y)\n",
    "\n",
    "  return np.array([vx, vy, ax, ay])"
   ],
   "id": "aebbe2bd2bdbfbcf"
  },
  {
   "metadata": {},
   "cell_type": "markdown",
   "source": "Explain Euler Richardson",
   "id": "1f96a5972ed2e9ca"
  },
  {
   "metadata": {},
   "cell_type": "code",
   "outputs": [],
   "execution_count": null,
   "source": [
    "def EulerRichardson(dt, f, t, y, args):\n",
    "    k1 = f(t, y, *args)\n",
    "    y_mid = y + k1 * (dt/2)\n",
    "    k2 = f(t + dt/2, y_mid, *args)\n",
    "    return y + k2 * dt"
   ],
   "id": "24f5188a6b734411"
  },
  {
   "metadata": {},
   "cell_type": "markdown",
   "source": "Explain Solve ODE",
   "id": "73902d86592c34ea"
  },
  {
   "metadata": {},
   "cell_type": "code",
   "outputs": [],
   "execution_count": null,
   "source": [
    "def solve_ode(f,tspan, y0, method=EulerRichardson, *args, **options):\n",
    "    t0, tf = tspan\n",
    "    dt = options.get('first_step', 0.01)\n",
    "\n",
    "    t = [t0]\n",
    "    y = [y0]\n",
    "\n",
    "    while t[-1] < tf:\n",
    "        y_c = y[-1]\n",
    "        t_c = t[-1]\n",
    "\n",
    "        y_new = method(dt, f, t_c, y_c, args)\n",
    "        t_new = t_c + dt\n",
    "\n",
    "        y.append(y_new)\n",
    "        t.append(t_new)\n",
    "\n",
    "    return np.array(t), np.array(y)"
   ],
   "id": "b4052e1c2bbbdd6c"
  },
  {
   "metadata": {},
   "cell_type": "markdown",
   "source": "Walk Through Parts of ballistic model",
   "id": "359196bc18e7cb8d"
  },
  {
   "metadata": {},
   "cell_type": "code",
   "outputs": [],
   "execution_count": null,
   "source": [
    "class BallisticModel:\n",
    "    def __init__(self, bc, v0, x0, y0, model=\"G7\", units=\"imperial\"):\n",
    "        self.bc_G7 = 0.212 * 703.5  # ballistic coefficient for G7 model lb/in^2\n",
    "        self.rho = 1.2041            # air density (kg/m^3)\n",
    "        self.vs = 343.21             # speed of sound (m/s)\n",
    "        self.v0 = 800                # initial velocity (m/s)\n",
    "        self.x0 = 0                 # initial x position (m)\n",
    "        self.y0 = 0.04064            # initial y position (m) == 1.6 in\n",
    "        self.g = 9.81\n",
    "\n",
    "        self.G7 = self.preprocessing(G7)\n",
    "        self.cd_G7 = self.interpolate(self.G7)\n",
    "\n",
    "    def\n",
    "\n",
    "    def preprocessing(self, data):\n",
    "        data[:, 1] = data[:, 1] * (math.pi / 4)\n",
    "        return data\n",
    "\n",
    "    def interpolate(self, data):\n",
    "        return interp1d(data[:, 0], data[:, 1], kind='linear', fill_value=\"extrapolate\")\n",
    "\n",
    "    def get_drag(self, v):\n",
    "        mach = v / self.vs\n",
    "        cd = self.cd_G7(mach)\n",
    "        drag = 0.5 * (1 / self.bc_G7) * self.rho * v**2 * cd\n",
    "        return drag\n",
    "\n",
    "    def test_validity(self):\n",
    "        pass\n",
    "\n",
    "    def convert_units(self):\n",
    "        pass"
   ],
   "id": "9f7cbfb9e28608af"
  },
  {
   "metadata": {},
   "cell_type": "markdown",
   "source": [
    "### Analysis\n",
    "Actually use the functions and talk about the results."
   ],
   "id": "399ea0c4b6ba1e96"
  },
  {
   "metadata": {},
   "cell_type": "markdown",
   "source": "Plot the G1 and G7 reference data",
   "id": "30f3f1d59531c87a"
  },
  {
   "metadata": {},
   "cell_type": "code",
   "outputs": [],
   "execution_count": null,
   "source": "",
   "id": "739370aeb8ce70d2"
  },
  {
   "metadata": {},
   "cell_type": "markdown",
   "source": [
    "### Interpretations\n",
    "Basically the conclusion"
   ],
   "id": "37c08aea636dc2f0"
  }
 ],
 "metadata": {
  "kernelspec": {
   "display_name": "Python 3",
   "language": "python",
   "name": "python3"
  },
  "language_info": {
   "codemirror_mode": {
    "name": "ipython",
    "version": 2
   },
   "file_extension": ".py",
   "mimetype": "text/x-python",
   "name": "python",
   "nbconvert_exporter": "python",
   "pygments_lexer": "ipython2",
   "version": "2.7.6"
  }
 },
 "nbformat": 4,
 "nbformat_minor": 5
}
