{
 "cells": [
  {
   "cell_type": "markdown",
   "metadata": {},
   "source": [
    "## Overview\n",
    "\n",
    "Ammunition manufactures provide a wealth of data for their cartridges. These data allow shooters to determine how 'flat' the trajectory of the rounds are and make adjustments for the drop and slow down of bullets when shooting at long range.\n",
    "\n",
    "In this assignment we will use these data and see how well we can match observations to the output of a computational model. Scientists have been creating so-called ballistic models since the turn of the last century, driven by the military and the importance of artillery. Such models allow for:\n",
    "\n",
    "* the anticipation of the long range characteristics of projectiles,\n",
    "* engineers can answer 'what if' questions like what would be the the result of a lower drag bullet vs. a cartridge with more powder (a faster muzzle velocity), and\n",
    "* provide a high-order, physics-based interpolation between observations.\n",
    "\n",
    "In this class we will reproduce a pair of famous ballistic models - the G1 and G7 models. Results of these models will be compared to the data from ammunition manufactures.\n",
    "\n",
    "If hunting isn't your thing, this project has parallels to computing the point a projectile falling from orbit impacts the Earth; think SpaceX capturing a rocket with `chopsticks'. The objectives of the lesson are to:\n",
    "\n",
    "* gain an understanding of two dimensional motion, the ODEs that arise, and how they are solved with a computer.\n",
    "* create modules for both data storage/retrieval and dynamical modeling.\n",
    "* do a simple optimization.\n",
    "* relate results in a tabular form.\n",
    "\n",
    "Finally, this assignment will emulate a project, of which there are three in this class, amounting to 45\\% of undergraduate grades, and 30\\% of graduate student grades. Here, you'll get the chance to try it out without stakes, and see how I would grade it.\n",
    "\n",
    "### Two dimensional motion and solving ODEs\n",
    "\n",
    "Until today, the ODEs we solved had only one dimension. For success with a projectile, we will need two dimensions. $x$ will be used to represent the range of the projectile - how far it travel over the Earth's surface. The $y$ axis will represent the drop in the projectile as it moves down range and is parallel to the direction gravity operates in.\n",
    "\n",
    "Let us suppose that we now have some vector drag force, $\\mathbf{F_d}$. The equations of motion would be\n",
    "\n",
    "$$\\mathbf{F} = m \\mathbf{a} = m\\mathbf{g} - \\mathbf{F_d}$$\n",
    "\n",
    "where we note that all quantities in **boldface** are vectors. That means that it's easier to write equations for $x$ and $y$ separately. Those are\n",
    "\n",
    "$$ a_x = ~~- \\mathbf{F_d}/m  \\cdot \\mathbf{\\hat x}$$\n",
    "$$ a_y = g - \\mathbf{F_d}/m  \\cdot \\mathbf{\\hat y}$$\n",
    "\n",
    "Where $\\mathbf{\\hat x}$ is the unit vector in the $x$ direction and likewise for $\\mathbf{\\hat y}$. The mass has been divided through. These equations indicate that the drag force must be projected onto each of the two cardinal axes. We will return to this later.\n",
    "\n",
    "Lets conclude with a clear statement about what we require of the ODE solver. The $\\mathbf{y_o}$ will be the initial state and consist of $(x^o,y^o,v^o_x,v^o_y)$; the 2 initial positions and 2 initial velocities. The function you write to pass to the ODE solver will return $(v_x^i,v_y^i,a_x^i,a_y^i)$; the 2 velocities and the 2 accelerations at time $t_i$, given $(x^i,y^i,v_x^i,v_y^i)$. The ODE solver function itself will return a sequence of states from the specified initial time, $t_o$ until $t_f$, progressing by the time interval $\\Delta t$.\n",
    "\n",
    "### In-class\n",
    "Write the ODE function that specifies the above drag equations in 2D. Assume that an object, instead of a parameter is passed to the function. This object includes a function `get_drag` that will accept a magnitude of velocity, $|\\mathbf{v}|$ and return the magnitude of the drag force. Also assume the object contains $g$, the gravitational acceleration.\n"
   ]
  },
  {
   "cell_type": "code",
   "metadata": {
    "ExecuteTime": {
     "end_time": "2025-02-11T17:51:35.065016Z",
     "start_time": "2025-02-11T17:51:35.056493Z"
    }
   },
   "source": [
    "import numpy as np\n",
    "\n",
    "def projectile(t,y,b):\n",
    "  x, y, vx, vy = y\n",
    "  speed = np.sqrt(vx**2 + vy**2)\n",
    "\n",
    "  g = b.g\n",
    "  drag = b.get_drag(speed)\n",
    "\n",
    "  u_x = vx / speed\n",
    "  u_y = vy / speed\n",
    "\n",
    "  ax = -drag * u_x\n",
    "  ay = g - (-drag * u_y)\n",
    "\n",
    "  return np.array([vx, vy, ax, ay])"
   ],
   "outputs": [],
   "execution_count": 68
  },
  {
   "cell_type": "markdown",
   "metadata": {},
   "source": [
    "\n",
    "## The drag force\n",
    "The drag force will be significant in determining the projectile's path. We begin with the following commonly used expression for drag force\n",
    "$$\\mathbf{F}_d= -{1 \\over 2} \\rho v^2 A C_d \\mathbf{\\hat v}$$\n",
    "\n",
    "$C_d$ is the non-dimensional drag coefficient, $\\rho$ is the density of the air the projectile travels through [Wikipedia:Density of Air](https://en.wikipedia.org/wiki/Density_of_air), $|v|$ is the magnitude of velocity, and $\\mathbf{\\hat v} = \\frac{\\mathbf{v}}{|\\mathbf{v}|}$ the normalized velocity direction. Mass, if you are wondering, is drawn into $C_d$.\n",
    "\n",
    "### The ballistic coefficient\n",
    "Using the basic equation for drag force presents a problem. How will we determine $C_d$ for each of the many different bullets that are available? Further, we expect $C_d$ to be a function of the speed of the projectile, $C_d(v)$. This is too much measurement and too much fitting. Instead, consider the following strategy.\n",
    "\n",
    "$S_d = \\frac{m}{A}$ is the [Wikipedia:Sectional density](https://en.wikipedia.org/wiki/Sectional_density) of the projectile. It is the mass $m$ divided by the cross-sectional area $A$  of the bullet.\n",
    "\n",
    "The form factor of a bullet is $f=\\frac{C_d}{C^{\\mathbf{G}}_{d}}$, where $C_d$ is the bullet's coefficient of drag, and $C^{\\mathbf{G}}_{d}$ is the drag of a reference round. Here, we learn that $C_d$ isn't known, but that the calculation is done with respect to a round it is known for, called a *reference model*. That's the so-called G model, it is no more than a set of measurements for a single, 'reference' projectile. We will see that this ratio produces nice simplifications in the drag equation.\n",
    "\n",
    "The **ballistic coefficient** is then the amount a bullet slows down in flight relative to a reference round. Based on the previous relations, this is expressed as\n",
    "\n",
    "$$b_c = \\frac{S_d}{f}.$$\n",
    "\n",
    "This is the number provided by the manufactures to tell shooters how well the bullet travels through the air. A value of 1.0 means the bullet has the same drag as the reference round. A value of greater than one would indicate the bullet experiences less drag than the reference round. A value less than one indicates the bullet experiences more drag than the reference round. Note that because of the dependence on $C^{\\mathbf{G}}_{d}$ the ballistic coefficient is always with respect to some reference. Most manufactures report ballistic coefficients for G1 reference bullets only and use imperial units of measure. This has a tendency to make the value higher, which shooters like. The same value expressed for the (usually superior) G7 model is lower. So even if the model is better, the lower number turns off shooters that what to think bigger is better, so G1 remains, even if it was formulated in 1881 and involves a one pound bullet!\n",
    "\n",
    "**Note the units of the ballistic coefficient.** They are pounds per inch squared in imperial units, and most manufactures report them in imperial units. To get to metric, you must convert to kilograms per meter squared.\n",
    "\n",
    "In conclusion, to model the trajectory of a round, one uses published data on a reference round, and then computes how much the trajectory changes for a particular round. The difference between the reference round and the round in question is expressed as the inverse of the ballistic coefficient, $b_c$. A value of $b_c$ less than one indicates the round is impacted more by air resistance than the reference round. A value of $b_c$ greater than one indicates the projectile experiences less air resistance than the reference round.\n",
    "\n",
    "### Final form of drag force\n",
    "\n",
    "***Students do this in class***\n",
    "To complete the analysis, multiply the right hand side of the original drag relation by one in the form of $\\frac{b_c}{b_c}$. Write out the expression for $b_c$ based on the above discussion of sectional density and form factor. Replace the $b_c$ in the numerator with that. Achieve some cancelations and substitutions. Divide through by mass to give acceleration instead of force. Generalize $C_d$ to $C_d(m)$, where $m$ is the Mach number of the projectile,\n",
    "\n",
    "$$m = \\frac{|\\mathbf{v}|}{v_s}.$$\n",
    "\n",
    "Here, $v_s$ is the speed of sound in air, see here for tables: [Wikipedia: Density of Air](https://en.wikipedia.org/wiki/Density_of_air).\n",
    "\n",
    "***Check answer***\n",
    "\n",
    "As a result, any round's trajectory is expressed as a reference round's trajectory scaled by the ballistic coefficient of the particular round. This gives the following friction relation\n",
    "\n",
    "$$ \\mathbf{a_d} = -\\frac{1}{2b_c} \\rho C_d^G(m) |v|^2\\mathbf{\\hat v}.$$\n",
    "\n",
    "Partitioning the force into ''x'' and ''y'' components based on the $\\mathbf{\\hat v}$, the equations of motion for the bullet take the following form\n",
    "\n",
    "$$ a_x = ~~ - \\frac{1}{2b_c}\\rho C_d^G(m) v^{2}\\frac{v_x}{|\\mathbf{v}|}$$\n",
    "\n",
    "$$a_y =  -g - \\frac{1}{2b_c}\\rho C_d^G(m) v^{2}\\frac{v_y}{|\\mathbf{v}|}$$\n",
    "\n",
    "***In class***\n",
    "Write a function that returns the magnitude of the drag function. Assume you have access to the other parts of the calculation, such as helper functions to convert units, a variable that sets the units, and whatever constants are needed."
   ]
  },
  {
   "cell_type": "code",
   "metadata": {
    "ExecuteTime": {
     "end_time": "2025-02-11T17:51:35.118203Z",
     "start_time": "2025-02-11T17:51:35.112914Z"
    }
   },
   "source": "",
   "outputs": [],
   "execution_count": null
  },
  {
   "cell_type": "markdown",
   "metadata": {},
   "source": [
    "#### Difference in models\n",
    "We will use both the G1 on G7 models, but what's the difference? It has to do with the projectile the data is taken on. The 'standard' projectiles of G1 and G7 are different.\n",
    "\n",
    "![G1 vs. G7 standard projectiles](Gmodels.png)\n",
    "\n",
    "Above, you can see the G7 model is based on a more modern, low drag bullet that has a 'boat tail' end and longer nose. The G1 is an older type of round that's mostly historical in terms of shape. It also weighed a full pound!\n",
    "\n",
    "A rule of thumb here might be that the more the model looks like the bullet you use, the better you'll do.\n",
    "\n",
    "### Tables of Data\n",
    "The data is tabulated in the form of Mach number $m$ in the first column and $K_d$ in the second. $K_d$, what's that? Well it's an older way of relating the data. You'll need to apply the correction that\n",
    "\n",
    "$$ C_d = \\frac{\\pi}{4} K_d$$\n",
    "\n",
    "to bring the values in the tables into agreement with the drag model we develop.\n",
    "\n",
    "Data are from [here](https://www.jbmballistics.com/ballistics/downloads/downloads.shtml)\n",
    "\n",
    "The relations are explored in a graph below."
   ]
  },
  {
   "cell_type": "code",
   "metadata": {
    "ExecuteTime": {
     "end_time": "2025-02-11T17:51:35.291611Z",
     "start_time": "2025-02-11T17:51:35.165170Z"
    }
   },
   "source": [
    "from scipy.interpolate import interp1d\n",
    "from sim import G1, G7, EulerRichardson, solve_ode\n",
    "import math\n",
    "import matplotlib.pyplot as plt\n",
    "import numpy as np\n",
    "\n",
    "class BallisticModel:\n",
    "    def __init__(self):\n",
    "        self.bc_G7 = 0.212 * 703.5  # ballistic coefficient for G7 model lb/in^2\n",
    "        self.rho = 1.2041            # air density (kg/m^3)\n",
    "        self.vs = 343.21             # speed of sound (m/s)\n",
    "        self.v0 = 800                # initial velocity (m/s)\n",
    "        self.x0 = 0                 # initial x position (m)\n",
    "        self.y0 = 0.04064            # initial y position (m) == 1.6 in\n",
    "        self.g = 9.81\n",
    "\n",
    "        self.G7 = self.preprocessing(G7)\n",
    "        self.cd_G7 = self.interpolate(self.G7)\n",
    "\n",
    "    def preprocessing(self, data):\n",
    "        data[:, 1] = data[:, 1] * (math.pi / 4)\n",
    "        return data\n",
    "\n",
    "    def interpolate(self, data):\n",
    "        return interp1d(data[:, 0], data[:, 1], kind='linear', fill_value=\"extrapolate\")\n",
    "\n",
    "    def get_drag(self, v):\n",
    "        mach = v / self.vs\n",
    "        cd = self.cd_G7(mach)\n",
    "        drag = 0.5 * (1 / self.bc_G7) * self.rho * v**2 * cd\n",
    "        return drag\n",
    "\n",
    "\n",
    "dt = 0.1\n",
    "y0 = np.array([0.001, 0.04064, 0.001, 800])\n",
    "tspan = (0, 10)\n",
    "t, y = solve_ode(projectile, tspan, y0, EulerRichardson, BallisticModel(), first_step=dt)\n",
    "\n",
    "plt.figure(figsize=(4.5, 3))\n",
    "\n",
    "plt.plot(y[:, 0], y[:, 1], 'r-', label='Position')\n",
    "plt.ylabel('Position (m)')\n",
    "plt.xlabel('Time (s)')\n",
    "plt.title('Falling Body Simulation using Euler Method')\n",
    "plt.legend()\n",
    "plt.grid(True)\n"
   ],
   "outputs": [
    {
     "data": {
      "text/plain": [
       "<Figure size 450x300 with 1 Axes>"
      ],
      "image/png": "[encoded data removed]"
     },
     "metadata": {},
     "output_type": "display_data"
    }
   ],
   "execution_count": 69
  },
  {
   "cell_type": "markdown",
   "metadata": {},
   "source": [
    "\n",
    "\n",
    "### Assignment\n",
    "* Develop a class to encapsulate the data for the G1 and G7 models. These data are expressed in the tables that appear below. The class should also have a function to return the drag, relevant constants, facilities to convert from imperial to metric, and perform interpolation of the tabular data.\n",
    "* Select a cartridge that includes long range (800 meters or more) trajectory data and ballistic coefficients for both models. That's not always easy, manufacturers often have incomplete data on ballistic coefficient used (G1 but not G7). Some manufacturers you might check can be found [here](https://en.wikipedia.org/wiki/Category:Ammunition_manufacturers) . A good fallback is the Finnish company, [Lapua](https://www.lapua.com/ammunition/tactical-cartridges/), which is excellent in terms of providing data. So is [Horandy](https://www.hornady.com/). Class is more fun if a variety of cartridges are studied. Do not use handgun rounds. They don't travel far enough.\n",
    "* You will need to devise a method for making certain that the projectile is zeroed at the appropriate point on the trajectory. To do this, the projectile must be fired at an angle with respect to horizontal making initial velocities $v^0_x = v_m cos\\theta$ and $v^0_y = v_m sin\\theta$, where $v_m$ is the muzzle velocity of the cartridge you select.\n",
    "* Take into account the scope is above the barrel. As such, if the manufacturer does not report it, set the initial position to -5 cm below the zero.\n",
    "* Compare the trajectory of the cartridge you select to the trajectory produced by each of the models. Do so with both graphs and well printed tables. I used Python's \"`prettytable`\".\n",
    "* Provide commentary on which ballistic model appears to be best suited to your cartridge. You will also need to develop a quantitative metric for assessing the ''goodness of fit'' of the model to the data. Note that the ballistic coefficient is with respect to each model (a different reference bullet is used). Don't forget that the ballistic coefficient has dimensions.\n",
    "* Improve upon the model in some way. This could be improvising a $C_d$ curve that is more suitable for your round, by improving the $\\rho$ model, by implementing another G type model (see below, several are available), or something else you might dream up. I found that reading the [Wikipedia: Ballistic Coefficient](https://en.wikipedia.org/wiki/Ballistic_coefficient) page stirred my imagination. Show the improvement for your round, and then, without further optimization, try your improved model on a new cartidge. Did it do better for that cartidge too?\n"
   ]
  },
  {
   "cell_type": "code",
   "metadata": {
    "ExecuteTime": {
     "end_time": "2025-02-11T17:51:35.309394Z",
     "start_time": "2025-02-11T17:51:35.306943Z"
    }
   },
   "source": [],
   "outputs": [],
   "execution_count": null
  }
 ],
 "metadata": {
  "kernelspec": {
   "display_name": "Python 3",
   "language": "python",
   "name": "python3"
  },
  "language_info": {
   "codemirror_mode": {
    "name": "ipython",
    "version": 3
   },
   "file_extension": ".py",
   "mimetype": "text/x-python",
   "name": "python",
   "nbconvert_exporter": "python",
   "pygments_lexer": "ipython3",
   "version": "3.8.5"
  }
 },
 "nbformat": 4,
 "nbformat_minor": 4
}
